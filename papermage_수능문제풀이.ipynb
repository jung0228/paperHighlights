{
 "cells": [
  {
   "cell_type": "code",
   "execution_count": 1,
   "metadata": {},
   "outputs": [
    {
     "name": "stderr",
     "output_type": "stream",
     "text": [
      "/Users/jhw/opt/anaconda3/envs/papermage/lib/python3.11/site-packages/tqdm/auto.py:21: TqdmWarning: IProgress not found. Please update jupyter and ipywidgets. See https://ipywidgets.readthedocs.io/en/stable/user_install.html\n",
      "  from .autonotebook import tqdm as notebook_tqdm\n",
      "  0%|          | 0/16 [00:00<?, ?it/s][W NNPACK.cpp:64] Could not initialize NNPACK! Reason: Unsupported hardware.\n",
      "100%|██████████| 16/16 [00:06<00:00,  2.65it/s]\n"
     ]
    }
   ],
   "source": [
    "from papermage.recipes import CoreRecipe\n",
    "from transformers import pipeline, set_seed\n",
    "from sentence_transformers import SentenceTransformer\n",
    "\n",
    "recipe = CoreRecipe()\n",
    "# doc = recipe.run(\"pdf/LLM_evaluation.pdf\")\n",
    "doc = recipe.run(\"pdf/2023수능_영어영역_문제지.pdf\")"
   ]
  },
  {
   "cell_type": "code",
   "execution_count": 2,
   "metadata": {},
   "outputs": [
    {
     "data": {
      "text/plain": [
       "<bound method Document.annotate of Document with 26 layers: ['symbols', 'images', 'metadata', 'tokens', 'rows', 'pages', 'words', 'sentences', 'blocks', 'vila_entities', 'titles', 'paragraphs', 'authors', 'abstracts', 'keywords', 'sections', 'lists', 'bibliographies', 'equations', 'algorithms', 'figures', 'tables', 'captions', 'headers', 'footers', 'footnotes']>"
      ]
     },
     "execution_count": 2,
     "metadata": {},
     "output_type": "execute_result"
    }
   ],
   "source": [
    "doc.annotate"
   ]
  },
  {
   "cell_type": "code",
   "execution_count": 9,
   "metadata": {},
   "outputs": [],
   "source": [
    "def to_abc(input):\n",
    "  temp_input = \"\"\n",
    "  temp_input += (input[-90]+\" \"+ input[-47-36]+\" \"+ \"-\"+\" \"+ input[-47-18]+\" \"+ \"-\"+\" \"+ input[-47] + \"\\n\")\n",
    "  temp_input += (input[-7-29]+\" \"+input[-7-24]+\" \"+ \"-\"+\" \"+ input[-7-12]+\" \"+ \"-\"+\" \"+ input[-7] + \"\\n\")\n",
    "  temp_input += (input[-88]+\" \"+ input[-43-36]+\" \"+ \"-\"+\" \"+ input[-43-18]+\" \"+ \"-\"+\" \"+ input[-43] + \"\\n\")\n",
    "  temp_input += (input[-7-27]+\" \"+input[-3-24]+\" \"+ \"-\"+\" \"+ input[-3-12]+\" \"+ \"-\"+\" \"+ input[-3] + \"\\n\")\n",
    "  temp_input += (input[-86]+\" \"+ input[-39-36]+\" \"+ \"-\"+\" \"+ input[-39-18]+\" \"+ \"-\"+\" \"+ input[-39] + \"\\n\")\n",
    "  input = input[:-90] + temp_input\n",
    "  return input\n",
    "  \n",
    "# input = page[idx5:idx6]\n",
    "# print(to_abc(input))"
   ]
  },
  {
   "cell_type": "code",
   "execution_count": 10,
   "metadata": {},
   "outputs": [
    {
     "name": "stdout",
     "output_type": "stream",
     "text": [
      "[ 41 ～ 42 ] 다음 글을 읽고, 물음에 답하시오.\n",
      "One way to avoid contributing to overhyping a story would\n",
      "be to say nothing. However, that is not a realistic option for\n",
      "scientists who feel a strong sense of responsibility to inform\n",
      "the public and policymakers and/or to offer suggestions.\n",
      "Speaking with members of the media has (a) advantages in\n",
      "getting a message out and perhaps receiving favorable\n",
      "recognition, but it runs the risk of misinterpretations, the need\n",
      "for repeated clarifications, and entanglement in never-ending\n",
      "controversy. Hence, the decision of whether to speak with the\n",
      "media tends to be highly individualized. Decades ago, it\n",
      "was (b) unusual for Earth scientists to have results that were\n",
      "of interest to the media, and consequently few media contacts\n",
      "were expected or encouraged. In the 1970s, the few scientists\n",
      "who spoke frequently with the media were often (c) criticized\n",
      "by their fellow scientists for having done so. The situation\n",
      "now is quite different, as many scientists feel a responsibility\n",
      "to speak out because of the importance of global warming and\n",
      "related issues, and many reporters share these feelings. In\n",
      "addition, many scientists are finding that they (d) enjoy the\n",
      "media attention and the public recognition that comes with it.\n",
      "At the same time, other scientists continue to resist speaking\n",
      "with reporters, thereby preserving more time for their science\n",
      "and (e) running the risk of being misquoted and the other\n",
      "unpleasantries associated with media coverage.\n",
      "* overhype: 과대광고하다 ** entanglement: 얽힘\n",
      "\n",
      "41. 윗글의 제목으로 가장 적절한 것은 ?\n",
      "① The Troubling Relationship Between Scientists and the Media\n",
      "② A Scientist’s Choice: To Be Exposed to the Media or Not?\n",
      "③ Scientists! Be Cautious When Talking to the Media\n",
      "④ The Dilemma over Scientific Truth and Media Attention\n",
      "⑤ Who Are Responsible for Climate Issues, Scientists or the Media?\n",
      "\n",
      "42. 밑줄 친 (a) ～ (e) 중에서 문맥상 낱말의 쓰임이 적절하지 않은\n",
      "것은 ?\n",
      "① (a)\n",
      "② (b)\n",
      "③ (c)\n",
      "④ (d)\n",
      "⑤ (e)\n",
      "\n",
      "[ 43 ～ 45 ] 다음 글을 읽고, 물음에 답하시오.\n",
      "(A)\n",
      "Emma and Clara stood side by side on the beach road, with\n",
      "their eyes fixed on the boundless ocean. The breathtaking\n",
      "scene that surrounded them was beyond description. Just after\n",
      "sunrise, they finished their preparations for the bicycle ride\n",
      "along the beach road. Emma turned to Clara with a question,\n",
      "“Do you think this will be your favorite ride ever?” Clara’s\n",
      "face lit up with a bright smile as she nodded. “Definitely!\n",
      "(a) I can’t wait to ride while watching those beautiful waves!”\n",
      "(B)\n",
      "When they reached their destination, Emma and Clara\n",
      "stopped their bikes. Emma approached Clara, saying “Bicycle\n",
      "riding is unlike swimming, isn’t it?” Clara answered with a\n",
      "smile, “Quite similar, actually. Just like swimming, riding\n",
      "makes me feel truly alive.” She added, “It shows (b) me what\n",
      "it means to live while facing life’s tough challenges.” Emma\n",
      "nodded in agreement and suggested, “Your first beach bike\n",
      "ride was a great success. How about coming back next summer?”\n",
      "Clara replied with delight, “With (c) you, absolutely!”\n",
      "(C)\n",
      "Clara used to be a talented swimmer, but she had to give up\n",
      "her dream of becoming an Olympic medalist in swimming\n",
      "because of shoulder injuries. Yet she responded to the hardship\n",
      "in a constructive way. After years of hard training, she made\n",
      "an incredible recovery and found a new passion for bike\n",
      "riding. Emma saw how the painful past made her maturer and\n",
      "how it made (d) her stronger in the end. One hour later, Clara,\n",
      "riding ahead of Emma, turned back and shouted, “Look at the\n",
      "white cliff!”\n",
      "(D)\n",
      "Emma and Clara jumped on their bikes and started to pedal\n",
      "toward the white cliff where the beach road ended. Speeding\n",
      "up and enjoying the wide blue sea, Emma couldn’t hide her\n",
      "excitement and exclaimed, “Clara, the view is amazing!”\n",
      "Clara’s silence, however, seemed to say that she was lost in her\n",
      "thoughts. Emma understood the meaning of her silence.\n",
      "Watching Clara riding beside her, Emma thought about Clara’s\n",
      "past tragedy, which (e) she now seemed to have overcome.\n",
      "\n",
      "43. 주어진 글 (A) 에 이어질 내용을 순서에 맞게 배열한 것으로\n",
      "가장 적절한 것은 ?\n",
      "① B - D - C\n",
      "② C - B - D\n",
      "③ C - D - B\n",
      "④ D - B - C\n",
      "⑤ D - C - B\n",
      "\n",
      "44. 밑줄 친 (a) ～ (e) 중에서 가리키는 대상이 나머지 넷과 다른\n",
      "것은 ?\n",
      "① (a)\n",
      "② (b)\n",
      "③ (c)\n",
      "④ (d)\n",
      "⑤ (e)\n",
      "\n",
      "45. 윗글에 관한 내용으로 적절하지 않은 것은 ?\n",
      "① Emma 와 Clara 는 자전거 탈 준비를 일출 직후에 마쳤다 .\n",
      "② Clara 는 자전거 타기와 수영이 꽤 비슷하다고 말했다 .\n",
      "③ Clara 는 올림픽 수영 경기에서 메달을 땄다 .\n",
      "④ Emma 와 Clara 는 자전거를 타고 하얀 절벽 쪽으로 갔다 .\n",
      "⑤ Emma 는 Clara 의 침묵의 의미를 이해했다 .\n",
      "\n"
     ]
    }
   ],
   "source": [
    "from papermage.visualizers import plot_entities_on_page\n",
    "\n",
    "Q_A = {}\n",
    "\n",
    "page = str(doc.pages[7])\n",
    "# sentence1 = page.sentence[0]\n",
    "# print(sentence1)42. 밑줄 친 (a) ～ (e) 중에서 문맥상 낱말의 쓰임이 적절하지 않은\n",
    "\n",
    "# display(page)\n",
    "idx = (page.find(\"[ 41 ～ 42 ] 다음 글을 읽고, 물음에 답하시오.\"))\n",
    "idx2 = (page.find(\"41. 윗글의 제목으로 가장 적절한 것은 ?\"))\n",
    "idx3 = (page.find(\"42. 밑줄 친 (a) ～ (e) 중에서 문맥상 낱말의 쓰임이 적절하지 않은\\n것은 ?\"))\n",
    "idx4 = (page.find(\"[ 43 ～ 45 ] 다음 글을 읽고, 물음에 답하시오.\"))\n",
    "idx5 = (page.find(\"43. 주어진 글 (A) 에 이어질 내용을 순서에 맞게 배열한 것으로\\n가장 적절한 것은 ?\"))\n",
    "idx6 = (page.find(\"44. 밑줄 친 (a) ～ (e) 중에서 가리키는 대상이 나머지 넷과 다른\\n것은 ?\"))\n",
    "idx7 = (page.find(\"45. 윗글에 관한 내용으로 적절하지 않은 것은 ?\"))\n",
    "idx8 = (page.find(\"* 확인 사항\"))\n",
    "print(page[idx:idx2])\n",
    "print(page[idx2:idx3])\n",
    "print(page[idx3:idx4])\n",
    "print(page[idx4:idx5])\n",
    "print(to_abc(page[idx5:idx6]))\n",
    "print(page[idx6:idx7])\n",
    "print(page[idx7:idx8])\n",
    "\n",
    "\n",
    "# print(page[idx2:idx3])\n",
    "# print(page[idx3:])"
   ]
  },
  {
   "cell_type": "code",
   "execution_count": null,
   "metadata": {},
   "outputs": [],
   "source": [
    "abstract_encode_list = []\n",
    "for i in doc.abstracts[0].sentences:\n",
    "  abstract_encode_list.append(sbert.encode(str(i.text)))\n",
    "\n",
    "cos_sim_score = [] \n",
    "for i, setence_embedding in enumerate(abstract_encode_list):\n",
    "  cos_sim_score.append([cos_sim(abstract_summary_embeddings, setence_embedding), i])\n",
    "cos_sim_score.sort()\n",
    "\n",
    "top_1 = cos_sim_score[-1][1]"
   ]
  },
  {
   "cell_type": "code",
   "execution_count": null,
   "metadata": {},
   "outputs": [],
   "source": []
  }
 ],
 "metadata": {
  "kernelspec": {
   "display_name": "papermage",
   "language": "python",
   "name": "python3"
  },
  "language_info": {
   "codemirror_mode": {
    "name": "ipython",
    "version": 3
   },
   "file_extension": ".py",
   "mimetype": "text/x-python",
   "name": "python",
   "nbconvert_exporter": "python",
   "pygments_lexer": "ipython3",
   "version": "3.11.7"
  }
 },
 "nbformat": 4,
 "nbformat_minor": 2
}
